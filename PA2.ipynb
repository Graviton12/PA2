{
 "cells": [
  {
   "cell_type": "markdown",
   "id": "295bfd33",
   "metadata": {},
   "source": [
    "## Assignment2: Working with Floating Point Number and Integer Number, Samia Mahmood, Version 1, Spring 2023"
   ]
  },
  {
   "cell_type": "code",
   "execution_count": 1,
   "id": "7d05317e",
   "metadata": {},
   "outputs": [
    {
     "name": "stdout",
     "output_type": "stream",
     "text": [
      "Enter a floating number: 46.55\n"
     ]
    }
   ],
   "source": [
    "float_num=float(input(\"Enter a floating number: \"))"
   ]
  },
  {
   "cell_type": "code",
   "execution_count": 2,
   "id": "e9a05f75",
   "metadata": {},
   "outputs": [
    {
     "name": "stdout",
     "output_type": "stream",
     "text": [
      "Enter an integer number: 2\n"
     ]
    }
   ],
   "source": [
    "int_num=int(input(\"Enter an integer number: \"))"
   ]
  },
  {
   "cell_type": "code",
   "execution_count": 3,
   "id": "0a35602c",
   "metadata": {},
   "outputs": [
    {
     "name": "stdout",
     "output_type": "stream",
     "text": [
      "The sum is: 48.55\n"
     ]
    }
   ],
   "source": [
    "print(\"The sum is:\", float_num+int_num)"
   ]
  },
  {
   "cell_type": "code",
   "execution_count": 4,
   "id": "525c5776",
   "metadata": {},
   "outputs": [
    {
     "name": "stdout",
     "output_type": "stream",
     "text": [
      "The difference is: 44.55\n"
     ]
    }
   ],
   "source": [
    "print(\"The difference is:\", float_num-int_num)"
   ]
  },
  {
   "cell_type": "code",
   "execution_count": 5,
   "id": "9b07b616",
   "metadata": {},
   "outputs": [
    {
     "name": "stdout",
     "output_type": "stream",
     "text": [
      "The product is: 93.1\n"
     ]
    }
   ],
   "source": [
    "print(\"The product is:\", float_num*int_num)"
   ]
  },
  {
   "cell_type": "code",
   "execution_count": 7,
   "id": "64c4168a",
   "metadata": {},
   "outputs": [
    {
     "name": "stdout",
     "output_type": "stream",
     "text": [
      "The quotient is: 23.275\n"
     ]
    }
   ],
   "source": [
    "print(\"The quotient is:\", float_num/int_num)"
   ]
  },
  {
   "cell_type": "code",
   "execution_count": 10,
   "id": "01cd4eed",
   "metadata": {},
   "outputs": [
    {
     "name": "stdout",
     "output_type": "stream",
     "text": [
      "The type for the result is: <class 'float'>\n"
     ]
    }
   ],
   "source": [
    "print(\"The type for the result is:\", type(float_num))"
   ]
  },
  {
   "cell_type": "code",
   "execution_count": 11,
   "id": "53599793",
   "metadata": {},
   "outputs": [
    {
     "name": "stdout",
     "output_type": "stream",
     "text": [
      "The type for the result is: <class 'int'>\n"
     ]
    }
   ],
   "source": [
    "print(\"The type for the result is:\", type(int_num))"
   ]
  },
  {
   "cell_type": "code",
   "execution_count": null,
   "id": "d8340dc2",
   "metadata": {},
   "outputs": [],
   "source": []
  }
 ],
 "metadata": {
  "kernelspec": {
   "display_name": "Python 3 (ipykernel)",
   "language": "python",
   "name": "python3"
  },
  "language_info": {
   "codemirror_mode": {
    "name": "ipython",
    "version": 3
   },
   "file_extension": ".py",
   "mimetype": "text/x-python",
   "name": "python",
   "nbconvert_exporter": "python",
   "pygments_lexer": "ipython3",
   "version": "3.9.13"
  }
 },
 "nbformat": 4,
 "nbformat_minor": 5
}
